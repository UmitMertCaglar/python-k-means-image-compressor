{
 "metadata": {
  "name": ""
 },
 "nbformat": 3,
 "nbformat_minor": 0,
 "worksheets": [
  {
   "cells": [
    {
     "cell_type": "code",
     "collapsed": false,
     "input": [
      "#512x512 pixel image --> 262144 pixels.\n",
      "#For each pixel there are three 8-bit numbers (each ranging from 0 to 255)\n",
      "#that represent the red, green and blue intensity values for that pixel.\n",
      "#The straightforward representation of this image therefore takes about\n",
      "#262144*3 = 786432 bytes (a byte being 8 bits)."
     ],
     "language": "python",
     "metadata": {},
     "outputs": [],
     "prompt_number": 75
    },
    {
     "cell_type": "code",
     "collapsed": false,
     "input": [
      "#To compress the image we will use k-means with 16 clusters\n",
      "#and so reduce the image to 16 different colours.\n",
      "#Each point in the image is considered a point in the three\n",
      "#dimensional (r,g,b) space.\n",
      "#Specifically,To compress the image, we will cluster these points in color-space\n",
      "#into 16 clusters, and replace each pixel with the closest cluster centroid"
     ],
     "language": "python",
     "metadata": {},
     "outputs": [],
     "prompt_number": 76
    },
    {
     "cell_type": "code",
     "collapsed": false,
     "input": [
      "#First off we store in the pixel values in a numpy array (we have\n",
      "#512*512 arrays of size 3, so for speed concerns numpy is a good idea\n",
      "\n",
      "import numpy as np\n",
      "from PIL import Image\n",
      "image1 = Image.open(\"mandrill-large.tiff\")\n",
      "pixels1 = np.array(image1)\n",
      "\n",
      "\n"
     ],
     "language": "python",
     "metadata": {},
     "outputs": [],
     "prompt_number": 180
    },
    {
     "cell_type": "code",
     "collapsed": false,
     "input": [
      "#Next we import the tools to be able to map the pixels back to an image\n",
      "#And test this\n",
      "import matplotlib.pyplot as plt\n",
      "plt.imshow(pixels)\n",
      "plt.show()"
     ],
     "language": "python",
     "metadata": {},
     "outputs": [],
     "prompt_number": 78
    },
    {
     "cell_type": "code",
     "collapsed": false,
     "input": [
      "#Since the large image has 262144 pixels and would take a while\n",
      "#to cluster we will instead run vector quantization on a smaller image\n",
      "#So we will repeat the above with a small version of the image\n",
      "\n",
      "image = Image.open(\"mandrill-small.tiff\")\n",
      "pixels = np.array(image)\n",
      "\n",
      "pixels.shape\n"
     ],
     "language": "python",
     "metadata": {},
     "outputs": [
      {
       "metadata": {},
       "output_type": "pyout",
       "prompt_number": 79,
       "text": [
        "(128, 128, 3)"
       ]
      }
     ],
     "prompt_number": 79
    },
    {
     "cell_type": "code",
     "collapsed": false,
     "input": [
      "#We now only have 128*128 pixels to work which means k-means will run\n",
      "#significantly faster"
     ],
     "language": "python",
     "metadata": {},
     "outputs": [],
     "prompt_number": 80
    },
    {
     "cell_type": "code",
     "collapsed": false,
     "input": [
      "#Initiliazing Clusters\n",
      "#let us choose multiples of 8 up to (128,128) as our initial clusters\n",
      "\n",
      "centroidValues = [pixels[x,x] for x in range(0,128,8)]\n",
      "\n",
      "centroidValues\n",
      "\n"
     ],
     "language": "python",
     "metadata": {},
     "outputs": [
      {
       "metadata": {},
       "output_type": "pyout",
       "prompt_number": 130,
       "text": [
        "[array([110,  94,  42], dtype=uint8),\n",
        " array([147, 158,  77], dtype=uint8),\n",
        " array([147, 156, 104], dtype=uint8),\n",
        " array([120, 131, 103], dtype=uint8),\n",
        " array([89, 95, 68], dtype=uint8),\n",
        " array([141, 195, 227], dtype=uint8),\n",
        " array([144, 194, 229], dtype=uint8),\n",
        " array([244,  79,  34], dtype=uint8),\n",
        " array([197, 178, 196], dtype=uint8),\n",
        " array([147, 186, 223], dtype=uint8),\n",
        " array([121, 164, 210], dtype=uint8),\n",
        " array([ 87, 116, 143], dtype=uint8),\n",
        " array([ 93, 114, 129], dtype=uint8),\n",
        " array([159, 173, 159], dtype=uint8),\n",
        " array([127, 131, 102], dtype=uint8),\n",
        " array([123, 141, 149], dtype=uint8)]"
       ]
      }
     ],
     "prompt_number": 130
    },
    {
     "cell_type": "code",
     "collapsed": false,
     "input": [
      "#Now we need to iterate over our pixels array, comparing \n",
      "#the Euclidean(L2) norm of the difference between each value \n",
      "#and the values located at our clusters and assign each value to the\n",
      "#the cluster that gives the minimum value to this calculation\n",
      "from math import sqrt, pow\n",
      "#initiliaze the cluster assigments for each pixel to cluster 1.\n",
      "pixelClusterAssignment = np.ones((128,128))\n",
      "\n",
      "#Create a calculate Norm method\n",
      "\n",
      "def calculateNorm(vector):\n",
      "    norm = sqrt(pow(vector[0,0],2)+pow(vector[0,1],2)+pow(vector[0,2],2))\n",
      "    return norm\n",
      "\n",
      "#test method\n",
      "\n",
      "#calculateNorm(pixels[0,0]- centroidValues[2])\n",
      "pixels[0,0] - centroidValues[2]\n",
      "x = (pixels[0,0]- centroidValues[2])\n",
      "x[0]\n",
      "len(pixelClusterAssignment)"
     ],
     "language": "python",
     "metadata": {},
     "outputs": [
      {
       "metadata": {},
       "output_type": "pyout",
       "prompt_number": 182,
       "text": [
        "128"
       ]
      }
     ],
     "prompt_number": 182
    },
    {
     "cell_type": "code",
     "collapsed": false,
     "input": [
      "#Now we are ready to perform the k-means clustering algorithm\n",
      "    #note: this is a very slow iteration and wastes the usefulness of numpy...\n",
      "def clusterAssignment(centroidValues,pixelClusterAssignment,pixels):\n",
      "    tempList = [1,1,1,1,1,1,1,1,1,1,1,1,1,1,1,1]\n",
      "    for i in range(len(pixelClusterAssignment)):\n",
      "        for j in range(len(pixelClusterAssignment)):\n",
      "            for k in range(16):\n",
      "                tempList[k] = calculateNorm(pixels[i,j] - centroidValues[k])\n",
      "                centroid = tempList.index(min(tempList))\n",
      "                pixelClusterAssignment[i,j] = centroid\n",
      "    \n",
      "    return pixelClusterAssignment\n",
      "               \n",
      "                \n",
      "                \n",
      "        "
     ],
     "language": "python",
     "metadata": {},
     "outputs": [],
     "prompt_number": 181
    },
    {
     "cell_type": "code",
     "collapsed": false,
     "input": [
      "clusterAssignment(centroidValues,pixelClusterAssignment,pixels)"
     ],
     "language": "python",
     "metadata": {},
     "outputs": [
      {
       "metadata": {},
       "output_type": "pyout",
       "prompt_number": 165,
       "text": [
        "array([[  7.,   8.,   8., ...,   7.,   4.,   4.],\n",
        "       [  7.,   8.,   8., ...,   4.,   7.,   7.],\n",
        "       [  8.,   7.,   7., ...,   4.,   7.,   7.],\n",
        "       ..., \n",
        "       [ 15.,   3.,  12., ...,   7.,   7.,   7.],\n",
        "       [  3.,  12.,  12., ...,   7.,   7.,   7.],\n",
        "       [  3.,   3.,  12., ...,   7.,   7.,   7.]])"
       ]
      }
     ],
     "prompt_number": 165
    },
    {
     "cell_type": "code",
     "collapsed": false,
     "input": [
      "#quick check: check that points that were given initialized to a cluster still belong to that\n",
      "#cluster\n",
      "pixelClusterAssignment[119,120]\n"
     ],
     "language": "python",
     "metadata": {},
     "outputs": [
      {
       "metadata": {},
       "output_type": "pyout",
       "prompt_number": 166,
       "text": [
        "3.0"
       ]
      }
     ],
     "prompt_number": 166
    },
    {
     "cell_type": "code",
     "collapsed": false,
     "input": [
      "def updateCentroids(centroidValues,pixelClusterAssignment,pixels):\n",
      "    \n",
      "    for k in range(16):\n",
      "        count = 0\n",
      "        sum = [(0,0,0)]\n",
      "        for i in range(128):\n",
      "            for j in range(128):\n",
      "                if pixelClusterAssignment[i,j] == k:\n",
      "                    count = count+1\n",
      "                    sum = sum + pixels[i,j]\n",
      "        centroidValues[k] = sum/float(count)\n",
      "        \n",
      "\n",
      "                    \n",
      "                 \n",
      "                \n",
      "    \n",
      "    \n",
      "    "
     ],
     "language": "python",
     "metadata": {},
     "outputs": [],
     "prompt_number": 169
    },
    {
     "cell_type": "code",
     "collapsed": false,
     "input": [
      "def kMeansOneIter(centroidValues,pixelClusterAssignment,pixels):\n",
      "    clusterAssignment(centroidValues,pixelClusterAssignment,pixels)\n",
      "    updateCentroids(centroidValues,pixelClusterAssignment,pixels)"
     ],
     "language": "python",
     "metadata": {},
     "outputs": [],
     "prompt_number": 170
    },
    {
     "cell_type": "code",
     "collapsed": false,
     "input": [
      "for y in range(30):\n",
      "    \n",
      "    kMeansOneIter(centroidValues,pixelClusterAssignment,pixels)\n"
     ],
     "language": "python",
     "metadata": {},
     "outputs": [],
     "prompt_number": 173
    },
    {
     "cell_type": "code",
     "collapsed": false,
     "input": [
      "#check for convergence\n",
      "\n",
      "cv30 = centroidValues\n",
      "difference =[0,0,0,0,0,0,0,0,0,0,0,0,0,0,0,0]\n",
      "kMeansOneIter(centroidValues,pixelClusterAssignment,pixels)\n",
      "\n",
      "cv31 = centroidValues\n",
      "\n",
      "for k in range(16):\n",
      "    difference[k] = cv31[k] - cv30[k]\n",
      "\n",
      "print difference\n",
      "#Should be zero everywhere\n"
     ],
     "language": "python",
     "metadata": {},
     "outputs": [],
     "prompt_number": 177
    },
    {
     "cell_type": "code",
     "collapsed": false,
     "input": [
      "#Finally, we will now go back to the large picture and replace each pixel's (r,g,b)\n",
      "#values with value of the closest cluster centroid\n",
      "\n",
      "#First we will match up each pixel in the large image with the centroid that is closest to it\n",
      "\n",
      "pixelClusterAssignment1 = np.ones((512,512))\n",
      "\n",
      "clusterAssignment(cv30,pixelClusterAssignment1,pixels1)"
     ],
     "language": "python",
     "metadata": {},
     "outputs": [
      {
       "metadata": {},
       "output_type": "pyout",
       "prompt_number": 185,
       "text": [
        "array([[ 14.,   8.,   8., ...,   4.,  14.,   2.],\n",
        "       [  4.,   0.,   8., ...,   3.,  15.,   4.],\n",
        "       [  7.,   4.,   8., ...,   4.,   7.,   7.],\n",
        "       ..., \n",
        "       [ 15.,  15.,  15., ...,   7.,   7.,   7.],\n",
        "       [ 15.,  15.,   3., ...,   7.,   7.,   7.],\n",
        "       [  8.,   8.,   8., ...,   8.,   8.,   8.]])"
       ]
      }
     ],
     "prompt_number": 185
    },
    {
     "cell_type": "code",
     "collapsed": false,
     "input": [
      "largeImageClusterAssignment = pixelClusterAssignment1\n",
      "\n",
      "#Now we will replace each pixel's value with the value of the closest cluster\n",
      "\n",
      "for i in range(512):\n",
      "    for j in range(512):\n",
      "        for k in range(16):\n",
      "            if largeImageClusterAssignment[i,j] == k:\n",
      "                pixels1[i,j] = cv30[k]\n",
      "                break\n",
      "\n",
      "\n",
      "    \n",
      "\n"
     ],
     "language": "python",
     "metadata": {},
     "outputs": [],
     "prompt_number": 190
    },
    {
     "cell_type": "code",
     "collapsed": false,
     "input": [
      "#Note pixel floating point values have automatically been converted into ints by flooring\n",
      "#Now we will display the new image\n",
      "pixels2 = np.array(image1)\n",
      "plt.imshow(pixels1)\n",
      "plt.show()"
     ],
     "language": "python",
     "metadata": {},
     "outputs": [],
     "prompt_number": 199
    },
    {
     "cell_type": "code",
     "collapsed": false,
     "input": [
      "#and the old image for comparison:\n",
      "pixels2 = np.array(image1)\n",
      "plt.imshow(pixels2)\n",
      "plt.show()"
     ],
     "language": "python",
     "metadata": {},
     "outputs": [],
     "prompt_number": 200
    },
    {
     "cell_type": "code",
     "collapsed": false,
     "input": [],
     "language": "python",
     "metadata": {},
     "outputs": []
    }
   ],
   "metadata": {}
  }
 ]
}